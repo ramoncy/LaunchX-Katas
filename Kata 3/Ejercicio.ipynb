{
 "cells": [
  {
   "cell_type": "code",
   "execution_count": 4,
   "metadata": {},
   "outputs": [
    {
     "name": "stdout",
     "output_type": "stream",
     "text": [
      "Alerta\n"
     ]
    }
   ],
   "source": [
    "asteroide = 49\n",
    "if (asteroide > 25):\n",
    "    print(\"Alerta de asteroide\")\n",
    "else:\n",
    "    print(\"No pasa nada\")"
   ]
  },
  {
   "cell_type": "code",
   "execution_count": 10,
   "metadata": {},
   "outputs": [
    {
     "name": "stdout",
     "output_type": "stream",
     "text": [
      "No se vera el asteroide\n"
     ]
    }
   ],
   "source": [
    "asteroide = 19\n",
    "if (asteroide > 20):\n",
    "    print (\"Mira la luz del asteroide en el cielo\")\n",
    "elif (asteroide == 20):\n",
    "    print(\"Mira la luz del asteroide en el cielo\")\n",
    "else:\n",
    "    print (\"No se vera el asteroide\")\n",
    "\n",
    "\n"
   ]
  },
  {
   "cell_type": "code",
   "execution_count": 50,
   "metadata": {},
   "outputs": [
    {
     "name": "stdout",
     "output_type": "stream",
     "text": [
      "Alerta de asteroide\n"
     ]
    }
   ],
   "source": [
    "velocidad = 24\n",
    "tamano = 25\n",
    "if(velocidad >= 25 or tamano >= 25):\n",
    "    print(\"Alerta de asteroide\")\n",
    "elif(velocidad < 25 and tamano < 25):\n",
    "    print(\"Mira la luz del asteroide en el cielo\")\n",
    "else:\n",
    "    print(\"No hay alertas\")"
   ]
  }
 ],
 "metadata": {
  "interpreter": {
   "hash": "afbabfe1c15e4ca4f9b98c9bc33f594c441778a1d11b110822ffea83b2ed6425"
  },
  "kernelspec": {
   "display_name": "Python 3.10.2 64-bit",
   "language": "python",
   "name": "python3"
  },
  "language_info": {
   "codemirror_mode": {
    "name": "ipython",
    "version": 3
   },
   "file_extension": ".py",
   "mimetype": "text/x-python",
   "name": "python",
   "nbconvert_exporter": "python",
   "pygments_lexer": "ipython3",
   "version": "3.10.2"
  },
  "orig_nbformat": 4
 },
 "nbformat": 4,
 "nbformat_minor": 2
}
