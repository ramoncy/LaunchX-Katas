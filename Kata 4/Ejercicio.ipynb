{
 "cells": [
  {
   "cell_type": "code",
   "execution_count": null,
   "metadata": {},
   "outputs": [],
   "source": [
    "text = \"\"\"Interesting facts about the Moon. The Moon is Earth's only satellite. There are several interesting facts about the Moon and how it affects life here on Earth. \n",
    "On average, the Moon moves 4cm away from the Earth every year. This yearly drift is not significant enough to cause immediate effects on Earth. The highest daylight temperature of the Moon is 127 C.\"\"\"\n",
    "\n",
    "text_a = text.split('. ')\n",
    "pistas = {\"average\", \"temperature\", \"distance\"}\n",
    "\n",
    "for sentence in text_a:\n",
    "    for pista in pistas:\n",
    "        if pista in sentence:\n",
    "            print(sentence)\n",
    "            break\n",
    "\n",
    "for sentence in text_a:\n",
    "    if 'C' in sentence:\n",
    "        print(sentence.replace('C', 'Celcius'))\n",
    "        break"
   ]
  },
  {
   "cell_type": "code",
   "execution_count": 62,
   "metadata": {},
   "outputs": [
    {
     "name": "stdout",
     "output_type": "stream",
     "text": [
      "Datos De Gravedad Sobre La Moon\n",
      "Nombre del planeta: Moon\n",
      "Gravedad de Moon en Earth es:  1.62 m/s2 \n",
      "Datos de Gravedad sobre: Marte\n",
      "Nombre del planeta: Ganimedes\n",
      "Gravedad de Marte en Ganimedes es:  1.43 m/s2 \n"
     ]
    }
   ],
   "source": [
    "name = \"Moon\"\n",
    "gravity = 0.00162 # in kms\n",
    "planet = \"Earth\"\n",
    "\n",
    "\n",
    "\n",
    "title = f\"Datos de gravedad sobre la {name}\"\n",
    "plantilla = f\"\"\"Nombre del planeta: {name}\n",
    "Gravedad de {name} en {planet} es:  {round(gravity * 1000, 4)} m/s2 \"\"\"\n",
    "union = f\"\"\"{title.title()}\n",
    "{plantilla}\"\"\"\n",
    "\n",
    "print (union)\n",
    "name = \"Marte\"\n",
    "gravity = 0.00143\n",
    "planet = \"Ganimedes\"\n",
    "\n",
    "nueva_plantilla = \"\"\"Datos de Gravedad sobre: {name}\n",
    "Nombre del planeta: {planet}\n",
    "Gravedad de {name} en {planet} es:  {gravity} m/s2 \"\"\"\n",
    "\n",
    "print(nueva_plantilla.format(name=name, planet = planet, gravity = round(gravity*1000, 4)))\n"
   ]
  },
  {
   "cell_type": "code",
   "execution_count": null,
   "metadata": {},
   "outputs": [],
   "source": []
  }
 ],
 "metadata": {
  "interpreter": {
   "hash": "afbabfe1c15e4ca4f9b98c9bc33f594c441778a1d11b110822ffea83b2ed6425"
  },
  "kernelspec": {
   "display_name": "Python 3.10.2 64-bit",
   "language": "python",
   "name": "python3"
  },
  "language_info": {
   "codemirror_mode": {
    "name": "ipython",
    "version": 3
   },
   "file_extension": ".py",
   "mimetype": "text/x-python",
   "name": "python",
   "nbconvert_exporter": "python",
   "pygments_lexer": "ipython3",
   "version": "3.10.2"
  },
  "orig_nbformat": 4
 },
 "nbformat": 4,
 "nbformat_minor": 2
}
