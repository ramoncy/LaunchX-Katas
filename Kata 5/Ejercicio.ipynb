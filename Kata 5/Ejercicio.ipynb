{
 "cells": [
  {
   "cell_type": "code",
   "execution_count": null,
   "metadata": {},
   "outputs": [],
   "source": [
    "distancia_T = 149597870\n",
    "distancia_J = 778547200\n",
    "\n",
    "distancia = distancia_J - distancia_T\n",
    "print (distancia)\n",
    "\n",
    "distancia = distancia * 0.621\n",
    "print(f\"\"\"{distancia} en millas\"\"\")"
   ]
  },
  {
   "cell_type": "code",
   "execution_count": null,
   "metadata": {},
   "outputs": [],
   "source": [
    "distancia1 = int(input(\"Distancia del primer planeta\"))\n",
    "distancia2 = int(input(\"Distancia del segundo planeta\"))\n",
    "\n",
    "distancia = abs(distancia2-distancia1)\n",
    "print(distancia)\n",
    "\n",
    "distancia = distancia *0.621\n",
    "print(distancia)"
   ]
  }
 ],
 "metadata": {
  "interpreter": {
   "hash": "afbabfe1c15e4ca4f9b98c9bc33f594c441778a1d11b110822ffea83b2ed6425"
  },
  "kernelspec": {
   "display_name": "Python 3.10.2 64-bit",
   "language": "python",
   "name": "python3"
  },
  "language_info": {
   "codemirror_mode": {
    "name": "ipython",
    "version": 3
   },
   "file_extension": ".py",
   "mimetype": "text/x-python",
   "name": "python",
   "nbconvert_exporter": "python",
   "pygments_lexer": "ipython3",
   "version": "3.10.2"
  },
  "orig_nbformat": 4
 },
 "nbformat": 4,
 "nbformat_minor": 2
}
