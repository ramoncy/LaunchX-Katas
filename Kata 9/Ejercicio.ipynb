{
 "cells": [
  {
   "cell_type": "code",
   "execution_count": 13,
   "metadata": {},
   "outputs": [
    {
     "name": "stdout",
     "output_type": "stream",
     "text": [
      "Promedio: 6.666666666666667%\n",
      "Primer tanque: 10%\n",
      "Segundo tanque: 5%\n",
      "Tercer tanque: 5% \n",
      "\n"
     ]
    }
   ],
   "source": [
    "def tanques(tanque1, tanque2, tanque3):\n",
    "    return f\"\"\"Promedio: {promedio([tanque1,tanque2,tanque3])}%\n",
    "Primer tanque: {tanque1}%\n",
    "Segundo tanque: {tanque2}%\n",
    "Tercer tanque: {tanque3}% \n",
    "\"\"\"\n",
    "def promedio(valores):\n",
    "    total = sum(valores)\n",
    "    cantidad = len(valores)\n",
    "    return total/cantidad\n",
    "\n",
    "\n",
    "print(tanques(10,5,5))\n"
   ]
  },
  {
   "cell_type": "code",
   "execution_count": 18,
   "metadata": {},
   "outputs": [
    {
     "name": "stdout",
     "output_type": "stream",
     "text": [
      "Hora de Lanzamiento: 13:30\n",
      "Tiempo de vuelo: 10 hrs\n",
      "Destino: Jupiter\n",
      "Tanque exterior: 55%\n",
      "Tanque interior: 100%\n",
      "\n",
      "Destino: Marte\n",
      "Tiempo de vuelo: 210 minutos\n",
      "Gas total: 10000\n",
      "    \n"
     ]
    }
   ],
   "source": [
    "def mision(hora_lanzamiento, tiempo_vuelo, destino, tanque_ext, tanque_int):\n",
    "    return f\"\"\"Hora de Lanzamiento: {hora_lanzamiento}\n",
    "Tiempo de vuelo: {tiempo_vuelo} hrs\n",
    "Destino: {destino}\n",
    "Tanque exterior: {tanque_ext}%\n",
    "Tanque interior: {tanque_int}%\n",
    "\"\"\"\n",
    "print(mision('13:30', 10, 'Jupiter', 55, 100))\n",
    "\n",
    "\n",
    "def mision(destino, *tiempo, **tanques):\n",
    "    return f\"\"\"Destino: {destino}\n",
    "Tiempo de vuelo: {sum(tiempo)} minutos\n",
    "Gas total: {sum(tanques.values())}\n",
    "    \"\"\"\n",
    "print(mision('Marte',51,39,120, interior = 2000, exterior = 3000, repuesto = 5000))"
   ]
  }
 ],
 "metadata": {
  "interpreter": {
   "hash": "afbabfe1c15e4ca4f9b98c9bc33f594c441778a1d11b110822ffea83b2ed6425"
  },
  "kernelspec": {
   "display_name": "Python 3.10.2 64-bit",
   "language": "python",
   "name": "python3"
  },
  "language_info": {
   "codemirror_mode": {
    "name": "ipython",
    "version": 3
   },
   "file_extension": ".py",
   "mimetype": "text/x-python",
   "name": "python",
   "nbconvert_exporter": "python",
   "pygments_lexer": "ipython3",
   "version": "3.10.2"
  },
  "orig_nbformat": 4
 },
 "nbformat": 4,
 "nbformat_minor": 2
}
